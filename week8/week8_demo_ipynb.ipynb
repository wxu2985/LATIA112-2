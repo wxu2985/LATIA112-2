{
  "nbformat": 4,
  "nbformat_minor": 0,
  "metadata": {
    "colab": {
      "provenance": []
    },
    "kernelspec": {
      "name": "python3",
      "display_name": "Python 3"
    },
    "language_info": {
      "name": "python"
    }
  },
  "cells": [
    {
      "cell_type": "code",
      "source": [
        "# Connetced yourself Cloud Storage\n",
        "from google.colab import drive\n",
        "drive.mount('/content/gdrive/', force_remount=True)\n",
        "\n",
        "import os\n",
        "os.chdir(\"/content/gdrive/My Drive/112_2_LATIA/week8_0409/\")\n",
        "os.listdir()"
      ],
      "metadata": {
        "id": "8MYlzmwUu3CQ",
        "outputId": "94188b72-beab-4503-9ef6-dfb02a26f40c",
        "colab": {
          "base_uri": "https://localhost:8080/"
        }
      },
      "execution_count": null,
      "outputs": [
        {
          "output_type": "stream",
          "name": "stdout",
          "text": [
            "Mounted at /content/gdrive/\n"
          ]
        },
        {
          "output_type": "execute_result",
          "data": {
            "text/plain": [
              "[]"
            ]
          },
          "metadata": {},
          "execution_count": 7
        }
      ]
    },
    {
      "cell_type": "code",
      "source": [
        "%%shell\n",
        "# Ubuntu no longer distributes chromium-browser outside of snap\n",
        "#\n",
        "# Proposed solution: https://askubuntu.com/questions/1204571/how-to-install-chromium-without-snap\n",
        "\n",
        "# Add debian buster\n",
        "cat > /etc/apt/sources.list.d/debian.list <<'EOF'\n",
        "deb [arch=amd64 signed-by=/usr/share/keyrings/debian-buster.gpg] http://deb.debian.org/debian buster main\n",
        "deb [arch=amd64 signed-by=/usr/share/keyrings/debian-buster-updates.gpg] http://deb.debian.org/debian buster-updates main\n",
        "deb [arch=amd64 signed-by=/usr/share/keyrings/debian-security-buster.gpg] http://deb.debian.org/debian-security buster/updates main\n",
        "EOF\n",
        "\n",
        "# Add keys\n",
        "apt-key adv --keyserver keyserver.ubuntu.com --recv-keys DCC9EFBF77E11517\n",
        "apt-key adv --keyserver keyserver.ubuntu.com --recv-keys 648ACFD622F3D138\n",
        "apt-key adv --keyserver keyserver.ubuntu.com --recv-keys 112695A0E562B32A\n",
        "\n",
        "apt-key export 77E11517 | gpg --dearmour -o /usr/share/keyrings/debian-buster.gpg\n",
        "apt-key export 22F3D138 | gpg --dearmour -o /usr/share/keyrings/debian-buster-updates.gpg\n",
        "apt-key export E562B32A | gpg --dearmour -o /usr/share/keyrings/debian-security-buster.gpg\n",
        "\n",
        "# Prefer debian repo for chromium* packages only\n",
        "# Note the double-blank lines between entries\n",
        "cat > /etc/apt/preferences.d/chromium.pref << 'EOF'\n",
        "Package: *\n",
        "Pin: release a=eoan\n",
        "Pin-Priority: 500\n",
        "\n",
        "Package: *\n",
        "Pin: origin \"deb.debian.org\"\n",
        "Pin-Priority: 300\n",
        "\n",
        "\n",
        "Package: chromium*\n",
        "Pin: origin \"deb.debian.org\"\n",
        "Pin-Priority: 700\n",
        "EOF\n",
        "\n",
        "# Install chromium and chromium-driver\n",
        "apt-get update\n",
        "apt-get install chromium chromium-driver\n",
        "\n",
        "# Install selenium\n",
        "pip install selenium"
      ],
      "metadata": {
        "id": "9i3osar0vVms",
        "colab": {
          "base_uri": "https://localhost:8080/"
        },
        "outputId": "b88990f2-76b3-40b8-f74c-828f948ed35e"
      },
      "execution_count": null,
      "outputs": [
        {
          "output_type": "stream",
          "name": "stdout",
          "text": [
            "Warning: apt-key is deprecated. Manage keyring files in trusted.gpg.d instead (see apt-key(8)).\n",
            "Executing: /tmp/apt-key-gpghome.kV1Sr0HnHn/gpg.1.sh --keyserver keyserver.ubuntu.com --recv-keys DCC9EFBF77E11517\n",
            "gpg: key DCC9EFBF77E11517: \"Debian Stable Release Key (10/buster) <debian-release@lists.debian.org>\" not changed\n",
            "gpg: Total number processed: 1\n",
            "gpg:              unchanged: 1\n",
            "Warning: apt-key is deprecated. Manage keyring files in trusted.gpg.d instead (see apt-key(8)).\n",
            "Executing: /tmp/apt-key-gpghome.1xPCbB9T1e/gpg.1.sh --keyserver keyserver.ubuntu.com --recv-keys 648ACFD622F3D138\n",
            "gpg: key DC30D7C23CBBABEE: \"Debian Archive Automatic Signing Key (10/buster) <ftpmaster@debian.org>\" not changed\n",
            "gpg: Total number processed: 1\n",
            "gpg:              unchanged: 1\n",
            "Warning: apt-key is deprecated. Manage keyring files in trusted.gpg.d instead (see apt-key(8)).\n",
            "Executing: /tmp/apt-key-gpghome.be1fFBvqnO/gpg.1.sh --keyserver keyserver.ubuntu.com --recv-keys 112695A0E562B32A\n",
            "gpg: key 4DFAB270CAA96DFA: \"Debian Security Archive Automatic Signing Key (10/buster) <ftpmaster@debian.org>\" not changed\n",
            "gpg: Total number processed: 1\n",
            "gpg:              unchanged: 1\n",
            "gpg: cannot open '/dev/tty': No such device or address\n",
            "Warning: apt-key is deprecated. Manage keyring files in trusted.gpg.d instead (see apt-key(8)).\n",
            "gpg: [stdout]: write error: Broken pipe\n",
            "gpg: filter_flush failed on close: Broken pipe\n",
            "gpg: cannot open '/dev/tty': No such device or address\n",
            "Warning: apt-key is deprecated. Manage keyring files in trusted.gpg.d instead (see apt-key(8)).\n",
            "gpg: [stdout]: write error: Broken pipe\n",
            "gpg: filter_flush failed on close: Broken pipe\n",
            "gpg: cannot open '/dev/tty': No such device or address\n",
            "Warning: apt-key is deprecated. Manage keyring files in trusted.gpg.d instead (see apt-key(8)).\n",
            "gpg: [stdout]: write error: Broken pipe\n",
            "gpg: filter_flush failed on close: Broken pipe\n",
            "Hit:1 http://deb.debian.org/debian buster InRelease\n",
            "Hit:2 http://deb.debian.org/debian buster-updates InRelease\n",
            "Hit:3 http://deb.debian.org/debian-security buster/updates InRelease\n",
            "Hit:4 https://developer.download.nvidia.com/compute/cuda/repos/ubuntu2204/x86_64  InRelease\n",
            "Hit:5 https://cloud.r-project.org/bin/linux/ubuntu jammy-cran40/ InRelease\n",
            "Hit:6 http://security.ubuntu.com/ubuntu jammy-security InRelease\n",
            "Hit:7 http://archive.ubuntu.com/ubuntu jammy InRelease\n",
            "Hit:8 http://archive.ubuntu.com/ubuntu jammy-updates InRelease\n",
            "Hit:9 http://archive.ubuntu.com/ubuntu jammy-backports InRelease\n",
            "Hit:10 https://ppa.launchpadcontent.net/c2d4u.team/c2d4u4.0+/ubuntu jammy InRelease\n",
            "Hit:11 https://ppa.launchpadcontent.net/deadsnakes/ppa/ubuntu jammy InRelease\n",
            "Hit:12 https://ppa.launchpadcontent.net/graphics-drivers/ppa/ubuntu jammy InRelease\n",
            "Hit:13 https://ppa.launchpadcontent.net/ubuntugis/ppa/ubuntu jammy InRelease\n",
            "Reading package lists... Done\n",
            "Reading package lists... Done\n",
            "Building dependency tree... Done\n",
            "Reading state information... Done\n",
            "chromium is already the newest version (90.0.4430.212-1~deb10u1).\n",
            "chromium-driver is already the newest version (90.0.4430.212-1~deb10u1).\n",
            "0 upgraded, 0 newly installed, 0 to remove and 45 not upgraded.\n",
            "Requirement already satisfied: selenium in /usr/local/lib/python3.10/dist-packages (4.3.0)\n",
            "Requirement already satisfied: urllib3[secure,socks]~=1.26 in /usr/local/lib/python3.10/dist-packages (from selenium) (1.26.18)\n",
            "Requirement already satisfied: trio~=0.17 in /usr/local/lib/python3.10/dist-packages (from selenium) (0.25.0)\n",
            "Requirement already satisfied: trio-websocket~=0.9 in /usr/local/lib/python3.10/dist-packages (from selenium) (0.11.1)\n",
            "Requirement already satisfied: attrs>=23.2.0 in /usr/local/lib/python3.10/dist-packages (from trio~=0.17->selenium) (23.2.0)\n",
            "Requirement already satisfied: sortedcontainers in /usr/local/lib/python3.10/dist-packages (from trio~=0.17->selenium) (2.4.0)\n",
            "Requirement already satisfied: idna in /usr/local/lib/python3.10/dist-packages (from trio~=0.17->selenium) (3.6)\n",
            "Requirement already satisfied: outcome in /usr/local/lib/python3.10/dist-packages (from trio~=0.17->selenium) (1.3.0.post0)\n",
            "Requirement already satisfied: sniffio>=1.3.0 in /usr/local/lib/python3.10/dist-packages (from trio~=0.17->selenium) (1.3.1)\n",
            "Requirement already satisfied: exceptiongroup in /usr/local/lib/python3.10/dist-packages (from trio~=0.17->selenium) (1.2.0)\n",
            "Requirement already satisfied: wsproto>=0.14 in /usr/local/lib/python3.10/dist-packages (from trio-websocket~=0.9->selenium) (1.2.0)\n",
            "Requirement already satisfied: pyOpenSSL>=0.14 in /usr/local/lib/python3.10/dist-packages (from urllib3[secure,socks]~=1.26->selenium) (24.1.0)\n",
            "Requirement already satisfied: cryptography>=1.3.4 in /usr/local/lib/python3.10/dist-packages (from urllib3[secure,socks]~=1.26->selenium) (42.0.5)\n",
            "Requirement already satisfied: certifi in /usr/local/lib/python3.10/dist-packages (from urllib3[secure,socks]~=1.26->selenium) (2024.2.2)\n",
            "Requirement already satisfied: urllib3-secure-extra in /usr/local/lib/python3.10/dist-packages (from urllib3[secure,socks]~=1.26->selenium) (0.1.0)\n",
            "Requirement already satisfied: PySocks!=1.5.7,<2.0,>=1.5.6 in /usr/local/lib/python3.10/dist-packages (from urllib3[secure,socks]~=1.26->selenium) (1.7.1)\n",
            "Requirement already satisfied: cffi>=1.12 in /usr/local/lib/python3.10/dist-packages (from cryptography>=1.3.4->urllib3[secure,socks]~=1.26->selenium) (1.16.0)\n",
            "Requirement already satisfied: h11<1,>=0.9.0 in /usr/local/lib/python3.10/dist-packages (from wsproto>=0.14->trio-websocket~=0.9->selenium) (0.14.0)\n",
            "Requirement already satisfied: pycparser in /usr/local/lib/python3.10/dist-packages (from cffi>=1.12->cryptography>=1.3.4->urllib3[secure,socks]~=1.26->selenium) (2.22)\n"
          ]
        },
        {
          "output_type": "execute_result",
          "data": {
            "text/plain": []
          },
          "metadata": {},
          "execution_count": 9
        }
      ]
    },
    {
      "cell_type": "code",
      "source": [
        "!pip install selenium==4.3.0"
      ],
      "metadata": {
        "id": "BEu5X9kSu2ta",
        "outputId": "6f7a76f0-461b-4ace-9e44-22fd63b0df33",
        "colab": {
          "base_uri": "https://localhost:8080/"
        }
      },
      "execution_count": null,
      "outputs": [
        {
          "output_type": "stream",
          "name": "stdout",
          "text": [
            "Requirement already satisfied: selenium==4.3.0 in /usr/local/lib/python3.10/dist-packages (4.3.0)\n",
            "Requirement already satisfied: urllib3[secure,socks]~=1.26 in /usr/local/lib/python3.10/dist-packages (from selenium==4.3.0) (1.26.18)\n",
            "Requirement already satisfied: trio~=0.17 in /usr/local/lib/python3.10/dist-packages (from selenium==4.3.0) (0.25.0)\n",
            "Requirement already satisfied: trio-websocket~=0.9 in /usr/local/lib/python3.10/dist-packages (from selenium==4.3.0) (0.11.1)\n",
            "Requirement already satisfied: attrs>=23.2.0 in /usr/local/lib/python3.10/dist-packages (from trio~=0.17->selenium==4.3.0) (23.2.0)\n",
            "Requirement already satisfied: sortedcontainers in /usr/local/lib/python3.10/dist-packages (from trio~=0.17->selenium==4.3.0) (2.4.0)\n",
            "Requirement already satisfied: idna in /usr/local/lib/python3.10/dist-packages (from trio~=0.17->selenium==4.3.0) (3.6)\n",
            "Requirement already satisfied: outcome in /usr/local/lib/python3.10/dist-packages (from trio~=0.17->selenium==4.3.0) (1.3.0.post0)\n",
            "Requirement already satisfied: sniffio>=1.3.0 in /usr/local/lib/python3.10/dist-packages (from trio~=0.17->selenium==4.3.0) (1.3.1)\n",
            "Requirement already satisfied: exceptiongroup in /usr/local/lib/python3.10/dist-packages (from trio~=0.17->selenium==4.3.0) (1.2.0)\n",
            "Requirement already satisfied: wsproto>=0.14 in /usr/local/lib/python3.10/dist-packages (from trio-websocket~=0.9->selenium==4.3.0) (1.2.0)\n",
            "Requirement already satisfied: pyOpenSSL>=0.14 in /usr/local/lib/python3.10/dist-packages (from urllib3[secure,socks]~=1.26->selenium==4.3.0) (24.1.0)\n",
            "Requirement already satisfied: cryptography>=1.3.4 in /usr/local/lib/python3.10/dist-packages (from urllib3[secure,socks]~=1.26->selenium==4.3.0) (42.0.5)\n",
            "Requirement already satisfied: certifi in /usr/local/lib/python3.10/dist-packages (from urllib3[secure,socks]~=1.26->selenium==4.3.0) (2024.2.2)\n",
            "Requirement already satisfied: urllib3-secure-extra in /usr/local/lib/python3.10/dist-packages (from urllib3[secure,socks]~=1.26->selenium==4.3.0) (0.1.0)\n",
            "Requirement already satisfied: PySocks!=1.5.7,<2.0,>=1.5.6 in /usr/local/lib/python3.10/dist-packages (from urllib3[secure,socks]~=1.26->selenium==4.3.0) (1.7.1)\n",
            "Requirement already satisfied: cffi>=1.12 in /usr/local/lib/python3.10/dist-packages (from cryptography>=1.3.4->urllib3[secure,socks]~=1.26->selenium==4.3.0) (1.16.0)\n",
            "Requirement already satisfied: h11<1,>=0.9.0 in /usr/local/lib/python3.10/dist-packages (from wsproto>=0.14->trio-websocket~=0.9->selenium==4.3.0) (0.14.0)\n",
            "Requirement already satisfied: pycparser in /usr/local/lib/python3.10/dist-packages (from cffi>=1.12->cryptography>=1.3.4->urllib3[secure,socks]~=1.26->selenium==4.3.0) (2.22)\n"
          ]
        }
      ]
    },
    {
      "cell_type": "code",
      "execution_count": null,
      "metadata": {
        "id": "utVHjIwWuVvS",
        "outputId": "3be785a9-c191-4a86-b315-5145310b43c7",
        "colab": {
          "base_uri": "https://localhost:8080/"
        }
      },
      "outputs": [
        {
          "output_type": "stream",
          "name": "stdout",
          "text": [
            "<Element img at 0x7865a0b60860>\n",
            "---------------------------\n",
            "img\n",
            "---------------------------\n",
            "https://www.flag.com.tw/assets/img/bookpic/F3768.jpg\n",
            "---------------------------\n",
            "<Element p at 0x7865a0b60900>\n",
            "---------------------------\n",
            "p\n",
            "---------------------------\n",
            "世界第一簡單的 Python「超」入門 - 零基礎 OK！ChatGPT 隨時當助教！\n"
          ]
        }
      ],
      "source": [
        "# 這段程式碼是使用子進程來執行pip安裝cssselect模組，並使用requests和lxml.html模組來解析網頁內容。\n",
        "\n",
        "\n",
        "# 導入sys模組，用於訪問系統相關的功能。\n",
        "import sys\n",
        "\n",
        "# 導入subprocess模組，用於建立和管理子進程，以執行命令行操作。\n",
        "import subprocess\n",
        "\n",
        "# 使用check_call函數執行指定的命令，該函數會等待命令完成並檢查返回碼。\n",
        "# 在這裡，指定的命令是一個列表，包含要在命令行中執行的命令以及相應的參數。其中：\n",
        "# -`sys.executable`提供Python解釋器的路徑，以確保在正確的環境中執行pip。\n",
        "# -`-m pip` 表示使用Python的pip模組。\n",
        "# -`install cssselect` 是指定要安裝的模組。\n",
        "subprocess.check_call([sys.executable, '-m', 'pip', 'install', 'cssselect'])\n",
        "\n",
        "# 導入requests函式庫，它是用於向網站發送HTTP請求以取得網頁資源的常用函式庫。\n",
        "import requests\n",
        "\n",
        "# 導入lxml函式庫中的html模組，用於解析HTML文件並建構ElementTree物件。\n",
        "from lxml import html\n",
        "\n",
        "# 發送一個GET請求到指定的URL（\"http://www.flag.com.tw/books/school_code_n_algo\"），\n",
        "# 並將回應儲存在變數r中。\n",
        "r = requests.get(\"http://www.flag.com.tw/books/school_code_n_algo\")\n",
        "\n",
        "# 使用lxml.html模組中的fromstring()函式將回應的HTML文本轉換為ElementTree物件，儲存在變數tree中。\n",
        "tree = html.fromstring(r.text)\n",
        "\n",
        "# 使用CSS選擇器來選擇特定的HTML元素。這裡選擇了第一個`<img>`元素，並將其儲存在tag_img中。\n",
        "tag_img = tree.cssselect(\"body > section.allbooks > table > tr:nth-child(2) > td:nth-child(2) > a > img\")[0]\n",
        "\n",
        "# 輸出`tag_img`元素的內容。\n",
        "print(tag_img)\n",
        "print('---------------------------')\n",
        "\n",
        "# 輸出`tag_img.tag`元素的標籤名稱。\n",
        "print(tag_img.tag)\n",
        "print('---------------------------')\n",
        "\n",
        "# 輸出圖片的URL。\n",
        "print(tag_img.attrib[\"src\"])\n",
        "print('---------------------------')\n",
        "\n",
        "# 使用CSS選擇器來選擇第一個`<p>`元素，並將其儲存在`tag_p`中。\n",
        "tag_p = tree.cssselect(\"body > section.allbooks > table > tr:nth-child(2) > td:nth-child(2) > a > p\")[0]\n",
        "\n",
        "\n",
        "#tag_p = tree.cssselect(\"p\")[0]\n",
        "\n",
        "# 輸出`tag_p`元素的內容。\n",
        "print(tag_p)\n",
        "print('---------------------------')\n",
        "\n",
        "# 輸出`tag_p`元素的標籤名稱。\n",
        "print(tag_p.tag)\n",
        "print('---------------------------')\n",
        "\n",
        "# 輸出`tag_p`元素的文本內容為\n",
        "# 世界第一簡單的 Python「超」入門 - 零基礎 OK！ChatGPT 隨時當助教！。\n",
        "print(tag_p.text_content())\n"
      ]
    }
  ]
}